{
 "cells": [
  {
   "cell_type": "code",
   "execution_count": 1,
   "id": "ad5eb936",
   "metadata": {},
   "outputs": [
    {
     "data": {
      "text/plain": [
       "E_g (generic function with 1 method)"
      ]
     },
     "execution_count": 1,
     "metadata": {},
     "output_type": "execute_result"
    }
   ],
   "source": [
    "using DelimitedFiles\n",
    "\n",
    "include(\"energy_loss/energy_loss.jl\")\n",
    "include(\"proton_flux/proton_flux.jl\")\n",
    "include(\"particle_propagation/numerical_propagation.jl\")"
   ]
  },
  {
   "cell_type": "markdown",
   "id": "ca3b1c74",
   "metadata": {},
   "source": [
    "# Interações com fótons de fundo\n",
    "\n",
    "### Produção de pares"
   ]
  },
  {
   "cell_type": "code",
   "execution_count": 4,
   "id": "ca07650c",
   "metadata": {},
   "outputs": [],
   "source": [
    "xi = range(0.4, 4, 100)\n",
    "xi = 10 .^(xi)\n",
    "\n",
    "phi_xi = phi.(xi)\n",
    "\n",
    "open(\"outputs/phi_xi.txt\", \"w\") do io\n",
    "    writedlm(io, [\"xi\" \"phi_xi\"])\n",
    "    writedlm(io, [xi phi_xi])\n",
    "end"
   ]
  },
  {
   "cell_type": "code",
   "execution_count": 5,
   "id": "607ac20a",
   "metadata": {},
   "outputs": [],
   "source": [
    "nu = range(-3, 2, 100)\n",
    "nu = 10 .^ (nu)\n",
    "\n",
    "fnu = f_nu.(nu)\n",
    "\n",
    "open(\"outputs/f_nu.txt\", \"w\") do io\n",
    "    writedlm(io, [\"nu\" \"f_nu\"])\n",
    "    writedlm(io, [nu fnu])\n",
    "end"
   ]
  },
  {
   "cell_type": "markdown",
   "id": "a6772b52",
   "metadata": {},
   "source": [
    "### Todas as interações"
   ]
  },
  {
   "cell_type": "code",
   "execution_count": 2,
   "id": "28b6b0a5",
   "metadata": {},
   "outputs": [],
   "source": [
    "E = range(17, 22, 1000)\n",
    "E = 10 .^ (E)\n",
    "\n",
    "beta_pair_E = beta_pair.(E)\n",
    "beta_pion_E = beta_pion.(E)\n",
    "beta_rsh_E = fill(beta_rsh(), 1000)\n",
    "beta_total_E = beta.(E, 0)\n",
    "\n",
    "open(\"outputs/beta_E.txt\", \"w\") do io\n",
    "    writedlm(io, [\"E\" \"beta_pair_E\" \"beta_pion_E\" \"beta_rsh_E\" \"beta_total_E\"])\n",
    "    writedlm(io, [E beta_pair_E beta_pion_E beta_rsh_E beta_total_E])\n",
    "end"
   ]
  },
  {
   "cell_type": "code",
   "execution_count": 5,
   "id": "6829ee95",
   "metadata": {},
   "outputs": [],
   "source": [
    "E = range(17, 22, 1000)\n",
    "E = 10 .^ (E)\n",
    "\n",
    "db0_pair_dE_E = db0_pair_dE.(E)\n",
    "db0_pion_dE_E = db0_pion_dE.(E)\n",
    "db0_rsh_dE_E = fill(db0_rsh_dE(), 1000)\n",
    "db0_dE_E = db0_dE.(E)\n",
    "\n",
    "open(\"outputs/dbeta_dE_E.txt\", \"w\") do io\n",
    "    writedlm(io, [\"E\" \"db0_pair_dE\" \"db0_pion_dE\" \"db0_rsh_dE\" \"db0_dE\"])\n",
    "    writedlm(io, [E db0_pair_dE_E db0_pion_dE_E db0_rsh_dE_E db0_dE_E])\n",
    "end"
   ]
  },
  {
   "cell_type": "markdown",
   "id": "d19303ba",
   "metadata": {},
   "source": [
    "# Propagação de partículas"
   ]
  },
  {
   "cell_type": "markdown",
   "id": "36c2644e",
   "metadata": {},
   "source": [
    "Resolve a equação\n",
    "\n",
    "$$\n",
    "\\frac{dE}{dt} = -E \\frac{dt}{dz}\\beta(E, z)\n",
    "$$\n",
    "\n",
    "utilizando de condições iniciais $z = z_{src}$ e $E = E_{src}$ até $z = 0$."
   ]
  },
  {
   "cell_type": "code",
   "execution_count": 7,
   "id": "a2fe72e0",
   "metadata": {},
   "outputs": [],
   "source": [
    "include(\"particle_propagation/numerical_propagation.jl\")\n",
    "\n",
    "E = [1e18 1e19 1e20 1e21]\n",
    "\n",
    "for (i, E_src) in enumerate(E)\n",
    "    \n",
    "    open(\"outputs/one_particle_propagation/E_t_$i.txt\", \"w\") do io\n",
    "\n",
    "        x, y = proton_propa(E_src, 0.4)\n",
    "\n",
    "        writedlm(io, [\"z\" \"E\"])\n",
    "        writedlm(io, [x y])\n",
    "            \n",
    "    end\n",
    "end"
   ]
  },
  {
   "cell_type": "code",
   "execution_count": 8,
   "id": "c7fba5d0-e730-444c-80e4-63b9a39dc0b6",
   "metadata": {},
   "outputs": [],
   "source": [
    "include(\"particle_propagation/numerical_propagation.jl\")\n",
    "\n",
    "E = [1e18 1e19 1e20 1e21]\n",
    "\n",
    "for (i, E_src) in enumerate(E)\n",
    "    \n",
    "    open(\"outputs/one_particle_propagation/E_t_$i.txt\", \"w\") do io\n",
    "\n",
    "        x, y = proton_propa(E_src, 0.4)\n",
    "\n",
    "        writedlm(io, [\"z\" \"E\"])\n",
    "        writedlm(io, [x y])\n",
    "            \n",
    "    end\n",
    "end"
   ]
  },
  {
   "cell_type": "markdown",
   "id": "5f14f5d5",
   "metadata": {},
   "source": [
    "A partir da equação acima, utilizando de condições iniciais $z = 0$ e $E = E$, é mapeado a energia de geração $E_g(E, z_g)$ até $z = z_{src}$."
   ]
  },
  {
   "cell_type": "code",
   "execution_count": 10,
   "id": "12e53edd",
   "metadata": {},
   "outputs": [],
   "source": [
    "include(\"particle_propagation/numerical_propagation.jl\")\n",
    "\n",
    "z_srcs = [0.01 0.05 0.5 1 1.5]\n",
    "\n",
    "E = range(17, 21, 1000)\n",
    "E = 10 .^(E)\n",
    "\n",
    "for (i, z_src) in enumerate(z_srcs)\n",
    "    \n",
    "    open(\"outputs/generation_energy/E_g_$i.txt\", \"w\") do io\n",
    "\n",
    "        Eg = E_g.(E, z_src)\n",
    "\n",
    "        writedlm(io, [\"E\" \"Eg\"])\n",
    "        writedlm(io, [E Eg])\n",
    "            \n",
    "    end\n",
    "end"
   ]
  },
  {
   "cell_type": "markdown",
   "id": "958d20ed",
   "metadata": {},
   "source": [
    "Calcula a integral de mapeamento de um intervalo de energia da fonte com a Terra\n",
    "\n",
    "$$\n",
    "\\frac{dE_g}{dE} = (1 + z_g)\\exp{\\left[\\frac{1}{H_0}\\int^{z_g}_0dz(1 + z)^{1/2}\\left(\\frac{db_0(E)}{dE}\\right)_{E = E_g(z)(1 + z)}\\right]}\n",
    "$$"
   ]
  },
  {
   "cell_type": "code",
   "execution_count": 9,
   "id": "da4d2150",
   "metadata": {},
   "outputs": [],
   "source": [
    "include(\"proton_flux/proton_flux.jl\")\n",
    "\n",
    "z_srcs = [7.7E-3 0.04 8.5e-2]\n",
    "\n",
    "E = range(17, 21, 50)\n",
    "E = 10 .^(E)\n",
    "\n",
    "for (i, z) in enumerate(z_srcs)\n",
    "    \n",
    "    open(\"outputs/energy_connection/dEsrc_dE_$i.txt\", \"w\") do io\n",
    "        \n",
    "        dEsrc_dE_z = dEg_dE.(z, E)\n",
    "\n",
    "        writedlm(io, [\"E\" \"dEsrc_dE\"])\n",
    "        writedlm(io, [E dEsrc_dE_z])\n",
    "    end\n",
    "end "
   ]
  },
  {
   "cell_type": "markdown",
   "id": "10cc5c68",
   "metadata": {},
   "source": [
    "\n",
    "# Fator de modificação"
   ]
  },
  {
   "cell_type": "code",
   "execution_count": 15,
   "id": "9e7405ac",
   "metadata": {},
   "outputs": [],
   "source": [
    "include(\"proton_flux/proton_flux.jl\")\n",
    "\n",
    "E = range(17, 21, 500)\n",
    "E = 10 .^ (E)\n",
    "\n",
    "z_srcs = [2.3e-3 3.8e-3 7.7e-3 2.4e-2 4E-2 8.5E-2 0.19 0.33 0.51 0.76 1.17]\n",
    "\n",
    "for (i, z_mod) in enumerate(z_srcs)\n",
    "    \n",
    "    open(\"outputs/modification_factor/mod_factor_E_$i.txt\", \"w\") do io\n",
    "\n",
    "        modification_factor = mod_factor.(E, z_mod)\n",
    "        \n",
    "        writedlm(io, [\"E\" \"mod_factor\"])\n",
    "        writedlm(io, [E modification_factor])\n",
    "    end\n",
    "end"
   ]
  },
  {
   "cell_type": "markdown",
   "id": "be4f96bd",
   "metadata": {},
   "source": [
    "Resolvendo para muitas fontes"
   ]
  },
  {
   "cell_type": "code",
   "execution_count": null,
   "id": "3d76473b",
   "metadata": {},
   "outputs": [],
   "source": [
    "include(\"proton_flux/proton_flux_many_sources.jl\")\n",
    "\n",
    "E = range(17, 21, 1000)\n",
    "E = 10 .^ (E)\n",
    "\n",
    "z_max = [0 3.8e-3 7.7e-3 2.4e-2 4E-2 8.5E-2 0.19 0.33 0.51 0.76 1.17]\n",
    "\n",
    "for i = 2:11\n",
    "\n",
    "    open(\"outputs/mod_factor_ms/mod_factor_ms_E_$(i - 1).txt\", \"w\") do io\n",
    "\n",
    "        mod_factor_ms = mod_factor_many_sources.(E, z_max[i], z_max[i - 1])\n",
    "                \n",
    "        writedlm(io, z_max[i])\n",
    "        writedlm(io, [\"E\" \"mod_factor_ms\"])\n",
    "        writedlm(io, [E mod_factor_ms])\n",
    "    end\n",
    "end"
   ]
  }
 ],
 "metadata": {
  "kernelspec": {
   "display_name": "Julia 1.9.3",
   "language": "julia",
   "name": "julia-1.9"
  },
  "language_info": {
   "file_extension": ".jl",
   "mimetype": "application/julia",
   "name": "julia",
   "version": "1.9.3"
  }
 },
 "nbformat": 4,
 "nbformat_minor": 5
}
